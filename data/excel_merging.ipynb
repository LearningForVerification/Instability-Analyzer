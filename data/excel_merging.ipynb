{
 "cells": [
  {
   "cell_type": "code",
   "id": "initial_id",
   "metadata": {
    "collapsed": true,
    "ExecuteTime": {
     "end_time": "2024-10-14T08:22:02.739701Z",
     "start_time": "2024-10-14T08:22:02.333282Z"
    }
   },
   "source": [
    "import os\n",
    "import pandas as pd\n",
    "\n",
    "# Percorsi delle cartelle\n",
    "cartella_source = r'C:\\Users\\Andrea\\Desktop\\Instability-Analizer\\data\\merging_stuff\\source1'\n",
    "cartella_origine2 = r'C:\\Users\\Andrea\\Desktop\\Instability-Analizer\\data\\merging_stuff\\source2'\n",
    "cartella_origine3 = r'C:\\Users\\Andrea\\Desktop\\Instability-Analizer\\data\\merging_stuff\\source'\n",
    "cartella_destinazione = r'C:\\Users\\Andrea\\Desktop\\Instability-Analizer\\data\\merging_stuff\\merged'\n",
    "\n",
    "# Ciclo attraverso i file della prima cartella\n",
    "for file in os.listdir(cartella_source):\n",
    "    complete_file_path = os.path.join(cartella_source, file)\n",
    "    \n",
    "    file_1 = os.path.join(cartella_origine2, file)\n",
    "    file_2 = os.path.join(cartella_origine3, file)\n",
    "    \n",
    "    if os.path.exists(file_1) and os.path.exists(file_2):\n",
    "        file_list = [file_1, file_2, complete_file_path]\n",
    "        dataframes = []\n",
    "        \n",
    "        # Usa un nome diverso per la variabile del ciclo interno\n",
    "        for file_path in file_list:\n",
    "            if os.path.exists(file_path):\n",
    "                df = pd.read_csv(file_path)\n",
    "                dataframes.append(df)\n",
    "\n",
    "        if dataframes:\n",
    "            # Concatena i DataFrame\n",
    "            df_concatenato = pd.concat(dataframes, ignore_index=True)\n",
    "        \n",
    "            # Percorso del file di output nella cartella destinazione\n",
    "            file_output = os.path.join(cartella_destinazione, file)\n",
    "        \n",
    "            # Salva il file Excel concatenato\n",
    "            df_concatenato.to_csv(file_output, index=False)\n",
    "            print(f'File salvato con successo in: {file_output}')\n"
   ],
   "outputs": [],
   "execution_count": 1
  },
  {
   "metadata": {
    "ExecuteTime": {
     "end_time": "2024-10-14T09:10:18.785466Z",
     "start_time": "2024-10-14T09:10:18.757500Z"
    }
   },
   "cell_type": "code",
   "source": [
    "import os\n",
    "import pandas as pd\n",
    "\n",
    "# Percorsi delle cartelle\n",
    "cartella_source = r'C:\\Users\\Andrea\\Desktop\\Instability-Analizer\\data\\merging_stuff\\source'\n",
    "cartella_origine2 = r'C:\\Users\\Andrea\\Desktop\\Instability-Analizer\\data\\merging_stuff\\source1'\n",
    "cartella_destinazione = r'C:\\Users\\Andrea\\Desktop\\Instability-Analizer\\data\\merging_stuff\\merged'\n",
    "\n",
    "# Ciclo attraverso i file della prima cartella\n",
    "for file in os.listdir(cartella_source):\n",
    "    complete_file_path = os.path.join(cartella_source, file)\n",
    "    \n",
    "    # Percorso del file corrispondente in origine2\n",
    "    file_1 = os.path.join(cartella_origine2, file)\n",
    "    \n",
    "    # Controlla se i file esistono in entrambi i percorsi\n",
    "    if os.path.exists(complete_file_path) and os.path.exists(file_1):\n",
    "        file_list = [complete_file_path, file_1]\n",
    "        dataframes = []\n",
    "        \n",
    "        # Leggi i file esistenti in DataFrames\n",
    "        for file_path in file_list:\n",
    "            df = pd.read_csv(file_path)\n",
    "            dataframes.append(df)\n",
    "\n",
    "        if dataframes:\n",
    "            # Concatena i DataFrame\n",
    "            df_concatenato = pd.concat(dataframes, ignore_index=True)\n",
    "        \n",
    "            # Percorso del file di output nella cartella destinazione\n",
    "            file_output = os.path.join(cartella_destinazione, file)\n",
    "        \n",
    "            # Salva il file concatenato in formato CSV\n",
    "            df_concatenato.to_csv(file_output, index=False)\n",
    "            print(f'File salvato con successo in: {file_output}')\n"
   ],
   "id": "c63a8599f1e1e66e",
   "outputs": [
    {
     "name": "stdout",
     "output_type": "stream",
     "text": [
      "File salvato con successo in: C:\\Users\\Andrea\\Desktop\\Instability-Analizer\\data\\merging_stuff\\merged\\accuracies_neuron_pruning.csv\n",
      "File salvato con successo in: C:\\Users\\Andrea\\Desktop\\Instability-Analizer\\data\\merging_stuff\\merged\\accuracies_no_batch.csv\n",
      "File salvato con successo in: C:\\Users\\Andrea\\Desktop\\Instability-Analizer\\data\\merging_stuff\\merged\\accuracies_no_batch_dropout.csv\n",
      "File salvato con successo in: C:\\Users\\Andrea\\Desktop\\Instability-Analizer\\data\\merging_stuff\\merged\\accuracies_no_batch_leaky.csv\n",
      "File salvato con successo in: C:\\Users\\Andrea\\Desktop\\Instability-Analizer\\data\\merging_stuff\\merged\\accuracies_no_batch_sparse.csv\n",
      "File salvato con successo in: C:\\Users\\Andrea\\Desktop\\Instability-Analizer\\data\\merging_stuff\\merged\\accuracies_no_batch_weight_decay.csv\n",
      "File salvato con successo in: C:\\Users\\Andrea\\Desktop\\Instability-Analizer\\data\\merging_stuff\\merged\\accuracies_no_batch_with_reduce_lr.csv\n",
      "File salvato con successo in: C:\\Users\\Andrea\\Desktop\\Instability-Analizer\\data\\merging_stuff\\merged\\accuracies_weight_pruning.csv\n",
      "File salvato con successo in: C:\\Users\\Andrea\\Desktop\\Instability-Analizer\\data\\merging_stuff\\merged\\accuracies_with_batch.csv\n",
      "File salvato con successo in: C:\\Users\\Andrea\\Desktop\\Instability-Analizer\\data\\merging_stuff\\merged\\accuracies_with_batch_sparse.csv\n",
      "File salvato con successo in: C:\\Users\\Andrea\\Desktop\\Instability-Analizer\\data\\merging_stuff\\merged\\accuracies_with_batch_weight_decay.csv\n"
     ]
    }
   ],
   "execution_count": 3
  }
 ],
 "metadata": {
  "kernelspec": {
   "display_name": "Python 3",
   "language": "python",
   "name": "python3"
  },
  "language_info": {
   "codemirror_mode": {
    "name": "ipython",
    "version": 2
   },
   "file_extension": ".py",
   "mimetype": "text/x-python",
   "name": "python",
   "nbconvert_exporter": "python",
   "pygments_lexer": "ipython2",
   "version": "2.7.6"
  }
 },
 "nbformat": 4,
 "nbformat_minor": 5
}
