{
 "cells": [
  {
   "cell_type": "code",
   "id": "initial_id",
   "metadata": {
    "collapsed": true,
    "ExecuteTime": {
     "end_time": "2024-10-07T13:13:27.533560Z",
     "start_time": "2024-10-07T13:13:27.472203Z"
    }
   },
   "source": [
    "import os\n",
    "import pandas as pd\n",
    "\n",
    "# Percorsi delle cartelle\n",
    "cartella_source = r'C:\\Users\\andr3\\Desktop\\Instability-Analizer\\data\\merging_stuff\\source'\n",
    "cartella_origine1 = r'C:\\Users\\andr3\\Desktop\\Instability-Analizer\\data\\merging_stuff\\source1'\n",
    "cartella_destinazione = r'C:\\Users\\andr3\\Desktop\\Instability-Analizer\\data\\merging_stuff\\merged'\n",
    "\n",
    "# Ciclo attraverso i file della prima cartella\n",
    "for file in os.listdir(cartella_source):\n",
    "    complete_file_path = os.path.join(cartella_source, file)\n",
    "    \n",
    "    file_1 = os.path.join(cartella_origine1, file)\n",
    "    \n",
    "    if os.path.exists(file_1):\n",
    "        file_list = [file_1, complete_file_path]\n",
    "        dataframes = []\n",
    "        \n",
    "        # Usa un nome diverso per la variabile del ciclo interno\n",
    "        for file_path in file_list:\n",
    "            if os.path.exists(file_path):\n",
    "                df = pd.read_csv(file_path)\n",
    "                dataframes.append(df)\n",
    "\n",
    "        if dataframes:\n",
    "            # Concatena i DataFrame\n",
    "            df_concatenato = pd.concat(dataframes, ignore_index=True)\n",
    "        \n",
    "            # Percorso del file di output nella cartella destinazione\n",
    "            file_output = os.path.join(cartella_destinazione, file)\n",
    "        \n",
    "            # Salva il file concatenato come CSV\n",
    "            df_concatenato.to_csv(file_output, index=False)\n",
    "            print(f'File salvato con successo in: {file_output}')\n"
   ],
   "outputs": [
    {
     "name": "stdout",
     "output_type": "stream",
     "text": [
      "File salvato con successo in: C:\\Users\\andr3\\Desktop\\Instability-Analizer\\data\\merging_stuff\\merged\\accuracies_neuron_pruning.csv\n",
      "File salvato con successo in: C:\\Users\\andr3\\Desktop\\Instability-Analizer\\data\\merging_stuff\\merged\\accuracies_no_batch.csv\n",
      "File salvato con successo in: C:\\Users\\andr3\\Desktop\\Instability-Analizer\\data\\merging_stuff\\merged\\accuracies_no_batch_dropout.csv\n",
      "File salvato con successo in: C:\\Users\\andr3\\Desktop\\Instability-Analizer\\data\\merging_stuff\\merged\\accuracies_no_batch_leaky.csv\n",
      "File salvato con successo in: C:\\Users\\andr3\\Desktop\\Instability-Analizer\\data\\merging_stuff\\merged\\accuracies_no_batch_sparse.csv\n",
      "File salvato con successo in: C:\\Users\\andr3\\Desktop\\Instability-Analizer\\data\\merging_stuff\\merged\\accuracies_no_batch_weight_decay.csv\n",
      "File salvato con successo in: C:\\Users\\andr3\\Desktop\\Instability-Analizer\\data\\merging_stuff\\merged\\accuracies_weight_pruning.csv\n",
      "File salvato con successo in: C:\\Users\\andr3\\Desktop\\Instability-Analizer\\data\\merging_stuff\\merged\\accuracies_with_batch.csv\n",
      "File salvato con successo in: C:\\Users\\andr3\\Desktop\\Instability-Analizer\\data\\merging_stuff\\merged\\accuracies_with_batch_sparse.csv\n",
      "File salvato con successo in: C:\\Users\\andr3\\Desktop\\Instability-Analizer\\data\\merging_stuff\\merged\\accuracies_with_batch_weight_decay.csv\n"
     ]
    }
   ],
   "execution_count": 2
  }
 ],
 "metadata": {
  "kernelspec": {
   "display_name": "Python 3",
   "language": "python",
   "name": "python3"
  },
  "language_info": {
   "codemirror_mode": {
    "name": "ipython",
    "version": 2
   },
   "file_extension": ".py",
   "mimetype": "text/x-python",
   "name": "python",
   "nbconvert_exporter": "python",
   "pygments_lexer": "ipython2",
   "version": "2.7.6"
  }
 },
 "nbformat": 4,
 "nbformat_minor": 5
}
